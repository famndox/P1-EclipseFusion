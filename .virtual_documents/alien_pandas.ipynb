'''
Eclipse_Fusion
Paranormal Business
Add your analysis here.

UFO Sightings via: https://www.kaggle.com/datasets/NUFORC/ufo-sightings/data
'''


# Dependencies and Setup
import matplotlib.pyplot as plt
import pandas as pd
import scipy.stats as st
import numpy as np
import seaborn as sb
import seaborn as sns

# Sightings data files
sightings_path = "Resources/scrubbed.csv"


# Read the scrubbed data, low_memory=False solves the following error:
# DtypeWarning: Columns (5,9) have mixed types. Specify dtype option on import or set low_memory=False.
aliens_all = pd.read_csv(sightings_path, low_memory=False)


# Display the data table for preview
aliens_all.head()



# Checking for duplicate entries

alien_dupes = aliens_all[aliens_all.duplicated(subset=["datetime","city"])]
alien_dupes.head()



# Confirming drop_duplicates is working

aliens_clean = alien_dupes.drop_duplicates(subset=["datetime","city"], keep='first')
aliens_clean.head()



# Finalizing reportable dataframe 

aliens = aliens_all.drop_duplicates(subset=["datetime","city"], keep='first')

# Confirming final dataframe is 1025 less than OG
# (Triple confirmed in excel that the duplicate total was 1915 - cleaned dataset 890 = 1025 duplicate entries)

print(len(aliens_all)-len(aliens))


aliens.head()


aliens_us = aliens[aliens["country"] == "us"]
aliens_us.head()


# Dataframe to truncate sightings to last available 20 years of data (1995 to 2014) + add a column for regions
aliens_main = aliens_us[aliens_us["year"] >= 1995]

# Make a copy of the DataFrame
aliens_main = aliens_main.copy()

# Get unique states
unique_states = aliens_main['state'].unique()

# Define mapping of states to regions
state_to_region = {
    'wv': 'South',
    'dc': 'South',
    'md': 'South',
    'va': 'South',
    'ky': 'South',
    'tn': 'South',
    'nc': 'South',
    'ms': 'South',
    'ar': 'South',
    'la': 'South',
    'al': 'South',
    'ga': 'South',
    'sc': 'South',
    'fl': 'South',
    'de': 'South',
    'az': 'Southwest',
    'nm': 'Southwest',
    'ok': 'Southwest',
    'tx': 'Southwest',
    'wa': 'West',
    'or': 'West',
    'ca': 'West',
    'nv': 'West',
    'id': 'West',
    'mt': 'West',
    'wy': 'West',
    'ut': 'West',
    'co': 'West',
    'ak': 'West',
    'hi': 'West',
    'nd': 'Midwest',
    'sd': 'Midwest',
    'ne': 'Midwest',
    'ks': 'Midwest',
    'mn': 'Midwest',
    'ia': 'Midwest',
    'mo': 'Midwest',
    'wi': 'Midwest',
    'il': 'Midwest',
    'mi': 'Midwest',
    'in': 'Midwest',
    'oh': 'Midwest',
    'me': 'Northeast',
    'vt': 'Northeast',
    'ny': 'Northeast',
    'nh': 'Northeast',
    'ma': 'Northeast',
    'ri': 'Northeast',
    'ct': 'Northeast',
    'nj': 'Northeast',
    'pa': 'Northeast'
}

# Add the 'Region' column to the existing DataFrame aliens_main
aliens_main['region'] = aliens_main['state'].str.lower().map(state_to_region)

aliens_main.head()



# Question 1: What areas of the country are most likely to have UFO sightings?


# Q1 Graph 1: Bar - number of sightings by region

# Calculate the number of sightings per region
sightings_per_region = aliens_main['region'].value_counts()

plt.figure(figsize=(5, 5))
sightings_per_region.plot(kind='bar', color='skyblue')
plt.title('Number of UFO Sightings per Region (1995-2014)')
plt.xlabel('Region')
plt.ylabel('Number of Sightings')
plt.xticks(rotation=45, ha='right')
plt.tight_layout()
plt.show()


# Question 2: Are there any trends in UFO sightings over time in Texas?


# Q2 Graph 1: Line - number of sightings per year in Texas

# Filter sightings data for Texas
sightings_in_texas = aliens_main[aliens_main['state'] == 'tx']

# Count sightings per year
sightings_per_year = sightings_in_texas['year'].value_counts().sort_index()

# Plotting
plt.figure(figsize=(8, 5))
plt.plot(sightings_per_year.index, sightings_per_year.values, marker='o', linestyle='-')
plt.title('Total Number of UFO Sightings per Year in Texas (1995-2014)')
plt.xlabel('Year')
plt.ylabel('Number of Sightings')
plt.xticks(sightings_per_year.index, rotation=45)
plt.tight_layout()
plt.show()


# Q2 Graph 2: Line - shapes of sightings over time in Texas

# Filter sightings data for Texas
sightings_in_texas = aliens_main[aliens_main['state'] == 'tx']

# Count sightings per shape
sightings_per_shape = sightings_in_texas['shape'].value_counts()

# Get top 5 reported shapes
top_shapes = sightings_per_shape.head(5).index

# Filter data to include only top 5 shapes
sightings_in_top_shapes = sightings_in_texas[sightings_in_texas['shape'].isin(top_shapes)]

# Replace 'other' and 'unknown' shapes with a new category 'Other/Unknown'
sightings_in_top_shapes.loc[sightings_in_top_shapes['shape'].isin(['other', 'unknown']), 'shape'] = 'Other/Unknown'

# Group by shape and year, and count sightings
sightings_by_shape_year = sightings_in_top_shapes.groupby(['shape', sightings_in_top_shapes['year']])['year'].count()

# Unstack the multi-index series to get a DataFrame with shapes as columns and years as rows
sightings_by_shape_year_unstacked = sightings_by_shape_year.unstack(level=0)

# Sorting the legend labels based on total number of sightings
legend_labels = sightings_by_shape_year_unstacked.sum().sort_values(ascending=False).index

# Plotting
plt.figure(figsize=(12, 8))
for shape in legend_labels:
    plt.plot(sightings_by_shape_year_unstacked.index, sightings_by_shape_year_unstacked[shape], marker='o', label=shape)

plt.title('Top 5 Highest Number of UFO Sightings per Shape per Year in Texas (1995-2014)')
plt.xlabel('Year')
plt.ylabel('Number of Sightings')
plt.legend(title='Shape', bbox_to_anchor=(1.05, 1), loc='upper left')
plt.xticks(sightings_per_year.index, rotation=45)
plt.tight_layout()



# Question 3: Is there a certain time of year/season that more sightings occur in Texas?


# Q3 Graph 1: Line - season for every year

# Filter sightings data for Texas
sightings_in_texas = aliens_main[aliens_main['state'] == 'tx']

# Group by year and season, and count sightings
sightings_per_year_season = sightings_in_texas.groupby(['year', 'season']).size().unstack(fill_value=0)

# Plotting
plt.figure(figsize=(9, 6))
for year in sightings_per_year_season.index:
    plt.plot(sightings_per_year_season.columns, sightings_per_year_season.loc[year], marker='o', label=year)

plt.title('Number of UFO Sightings per Season for Every Year in Texas (1995-2014)')
plt.xlabel('Season')
plt.ylabel('Number of Sightings')
plt.legend(title='Year', bbox_to_anchor=(1.05, 1), loc='upper left')
plt.tight_layout()
plt.show()


# Filter sightings data for Texas
sightings_in_texas = aliens_main[aliens_main['state'] == 'tx']

# Group by year and season, and count sightings
sightings_per_year_season = sightings_in_texas.groupby(['year', 'season']).size().reset_index(name='count')

# Plotting
plt.figure(figsize=(10, 6))
sns.boxplot(data=sightings_per_year_season, x='season', y='count')
plt.title('Total Number of UFO Sightings per Season in Texas (1995-2014)')
plt.xlabel('Season')
plt.ylabel('Number of Sightings')
plt.tight_layout()
plt.show()


# Introducing GEOAPIFY
''' 
API For Airports https://apidocs.geoapify.com/docs/places/#categories
*In pink*
airport
airport.private
airport.international
airport.gliding
airport.airfield
*In Blue*
airport.military
building.military
'''


# Q3 Graph 2: Correlating map of sightings and airports or government research centers










