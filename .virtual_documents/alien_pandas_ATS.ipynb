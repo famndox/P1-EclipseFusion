'''
Eclipse_Fusion
Paranormal Business
Add your analysis here.

UFO Sightings via: https://www.kaggle.com/datasets/NUFORC/ufo-sightings/data
'''


# Dependencies and Setup
import matplotlib.pyplot as plt
import pandas as pd
import scipy.stats as st
import numpy as np
import seaborn as sb

# Sightings data files
sightings_path = "Resources/scrubbed.csv"


# Read the scrubbed data, low_memory=False solves the following error:
# DtypeWarning: Columns (5,9) have mixed types. Specify dtype option on import or set low_memory=False.
aliens_all = pd.read_csv(sightings_path, low_memory=False)


# Display the data table for preview
aliens_all.head()



# Checking for duplicate entries

alien_dupes = aliens_all[aliens_all.duplicated(subset=["datetime","city"])]
alien_dupes.head()



# Confirming drop_duplicates is working

aliens_clean = alien_dupes.drop_duplicates(subset=["datetime","city"], keep='first')
aliens_clean.head()



# Finalizing reportable dataframe 

aliens = aliens_all.drop_duplicates(subset=["datetime","city"], keep='first')

# Confirming final dataframe is 1025 less than OG
# (Triple confirmed in excel that the duplicate total was 1915 - cleaned dataset 890 = 1025 duplicate entries)

print(len(aliens_all)-len(aliens))


aliens.head()


aliens_us = aliens[aliens["country"] == "us"]
aliens_us.head()


# Dataframe to truncate sightings to last available 20 years of data (1995 to 2014)

aliens_main = aliens_us[aliens_us["year"] >= 1994]
aliens_main.head()


# Question 1: What areas of the country are most likely to have UFO sightings?


# Q1 Graph 1: Bar - number of sightings by city




# Q3 Graph 2: Correlating map of sightings and airports or government research centers


import hvplot.pandas
import re
import warnings
warnings.filterwarnings("ignore")

aliens_df = aliens_main.drop_duplicates(subset=["datetime", "city"], keep='first')

# Rename the column with the extra space at the end to 'longitude'
aliens_df.rename(columns={'longitude ': 'longitude'}, inplace=True)

# Ensure 'latitude' column is treated as string
aliens_df['latitude'] = aliens_df['latitude'].astype(str)

# Remove non-numeric characters from 'latitude' column
aliens_df['latitude'] = aliens_df['latitude'].str.replace(r'[^0-9.-]+', '')

# Define a function to clean latitude values
def clean_latitude(latitude):
    try:
        # Remove non-numeric characters and convert to float
        return float(re.sub(r'[^0-9.-]+', '', latitude))
    except ValueError:
        # If conversion fails, return NaN
        return np.nan

# Apply the clean_latitude function to the latitude column
aliens_df['latitude'] = aliens_df['latitude'].apply(clean_latitude)


# Count the occurrences of each city in the 'city' column
tx_df = aliens_df[aliens_df['state'].str.lower() == 'tx']
city_counts = tx_df['city'].value_counts()

# Configure the map plot
map_plot_2 = tx_df.hvplot.points(
    x="longitude",
    y="latitude",
    geo=True,
    tiles="OSM",
    frame_width=800,
    frame_height=500,
    size=tx_df['city'].map(city_counts),  # Use city counts as the size of the points
    scale=1.0,
    #color="city"
)

# Display the map plot
map_plot_2


import json
import requests
from Untitled import api_key


# Use the Pandas copy function to create a DataFrame 
airport_df = tx_df.copy()
airport_df = airport_df[["city", "latitude", "longitude"]]
# Add an empty column to the DataFrame so you can store the airport found using the Geoapify API
airport_df["airport"] = " "

# Display sample data
airport_df


# Set base URL
base_url = "https://api.geoapify.com/v2/places"

# Print a message to follow up the hotel search
print("Starting airport search")

# Iterate through the hotel_df DataFrame
for index, row in airport_df.iterrows():
    # Get latitude and longitude from the DataFrame for the current row
    latitude = row["latitude"]
    longitude = row["longitude"]
    
    # Define filters and bias based on the current airport's location
    radius = 8000
    filters = f"circle:{longitude},{latitude},{radius}"
    bias = f"proximity:{longitude},{latitude}"
    
    # Set parameters for the API request
    params = {
        "categories": "airport",
        "apiKey": api_key,
        "filter": filters,
        "bias": bias
    }

    # Make an API request using the params dictionary
    name_address = requests.get(base_url, params=params)
    
    # Convert the API response to JSON format
    name_address = name_address.json()
    
    # Grab the first airport from the results and store the name in the airport DataFrame
    try:
        airport_df.loc[index, "airport"] = name_address["features"][0]["properties"]["name"]
    except (KeyError, IndexError):
        # If no airport is found, set the airport name as "No airport found".
        airport_df.loc[index, "airport"] = "No airport found"
        
    # Log the search results
    print(f"{airport_df.loc[index, 'city']} - nearest airport: {airport_df.loc[index, 'airport']}")

# Display sample data
print(airport_df)


# Filter the DataFrame to exclude rows where no airport was found
airport_df_filtered = airport_df[airport_df['airport'] != 'No airport found']

# Configure the map plot using the filtered DataFrame
airport_plot_map = airport_df_filtered.hvplot.points(
    x='longitude', 
    y='latitude',  
    hover_cols=['airport'],
    geo=True, 
    alpha=0.5,  
    width=800, 
    height=500,
    scale=1.5,
    tiles='OSM',
    color="green"
)

# Display the map
airport_plot_map
